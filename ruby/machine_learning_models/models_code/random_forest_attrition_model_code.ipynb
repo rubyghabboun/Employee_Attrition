{
  "nbformat": 4,
  "nbformat_minor": 0,
  "metadata": {
    "colab": {
      "provenance": []
    },
    "kernelspec": {
      "name": "python3",
      "display_name": "Python 3"
    },
    "language_info": {
      "name": "python"
    }
  },
  "cells": [
    {
      "cell_type": "code",
      "source": [
        "from sklearn.model_selection import train_test_split, RandomizedSearchCV\n",
        "from sklearn.preprocessing import StandardScaler\n",
        "from sklearn.metrics import classification_report\n",
        "from sklearn.ensemble import RandomForestClassifier\n",
        "from imblearn.over_sampling import RandomOverSampler\n",
        "import pandas as pd\n",
        "import numpy as np\n",
        "\n",
        "# Read the dataset\n",
        "data = pd.read_csv('/content/IBM-HR-Employee-Attrition.csv')\n",
        "\n",
        "# Map the 'Attrition' column to numeric labels\n",
        "data['Attrition'] = data['Attrition'].map({'Yes': 1, 'No': 0})\n",
        "\n",
        "# Selecting features for attrition prediction\n",
        "X = data[['Age', 'DistanceFromHome', 'Education',\n",
        "          'JobSatisfaction', 'MonthlyIncome', 'PercentSalaryHike',\n",
        "          'TotalWorkingYears', 'YearsAtCompany', 'YearsSinceLastPromotion',\n",
        "          'PerformanceRating']]\n",
        "\n",
        "# Target variable for attrition prediction\n",
        "y = data['Attrition']\n",
        "\n",
        "# Splitting data into training and testing sets\n",
        "X_train, X_test, y_train, y_test = train_test_split(X, y, test_size=0.2, random_state=42)\n",
        "\n",
        "# Balancing the class distribution using RandomOverSampler\n",
        "oversampler = RandomOverSampler(random_state=42)\n",
        "X_train_over, y_train_over = oversampler.fit_resample(X_train, y_train)\n",
        "\n",
        "# Data scaling\n",
        "scaler = StandardScaler()\n",
        "X_train_scaled = scaler.fit_transform(X_train_over)\n",
        "X_test_scaled = scaler.transform(X_test)\n",
        "\n",
        "# Define the parameter grid for randomized search\n",
        "param_grid = {\n",
        "    'n_estimators': [100, 200, 300],\n",
        "    'max_depth': [5, 10, 15, None],\n",
        "    'min_samples_split': [2, 5, 10],\n",
        "    'min_samples_leaf': [1, 2, 4],\n",
        "    'bootstrap': [True, False]\n",
        "}\n",
        "\n",
        "# Define the random forest classifier\n",
        "rf = RandomForestClassifier(random_state=42)\n",
        "\n",
        "# Perform randomized search for hyperparameter optimization\n",
        "random_search = RandomizedSearchCV(estimator=rf, param_distributions=param_grid, n_iter=50, cv=5, scoring='accuracy', random_state=42)\n",
        "random_search.fit(X_train_scaled, y_train_over)\n",
        "\n",
        "# Get the best model from the randomized search\n",
        "best_model = random_search.best_estimator_\n",
        "\n",
        "# Make predictions on the test set\n",
        "y_pred = best_model.predict(X_test_scaled)\n",
        "\n",
        "# Evaluate the model\n",
        "print(classification_report(y_test, y_pred))\n",
        "print(f'Best parameters: {random_search.best_params_}')"
      ],
      "metadata": {
        "colab": {
          "base_uri": "https://localhost:8080/"
        },
        "id": "HiWZOEcMu6TU",
        "outputId": "58debc7f-38ec-4840-f6f2-fedfc303524d"
      },
      "execution_count": 10,
      "outputs": [
        {
          "output_type": "stream",
          "name": "stdout",
          "text": [
            "              precision    recall  f1-score   support\n",
            "\n",
            "           0       0.88      0.97      0.93       255\n",
            "           1       0.46      0.15      0.23        39\n",
            "\n",
            "    accuracy                           0.86       294\n",
            "   macro avg       0.67      0.56      0.58       294\n",
            "weighted avg       0.83      0.86      0.83       294\n",
            "\n",
            "Best parameters: {'n_estimators': 200, 'min_samples_split': 2, 'min_samples_leaf': 1, 'max_depth': None, 'bootstrap': False}\n"
          ]
        }
      ]
    },
    {
      "cell_type": "code",
      "source": [
        "import joblib\n",
        "\n",
        "# Save the best model\n",
        "joblib.dump(best_model, 'best_random_forest_model_ATTRITION.pkl')"
      ],
      "metadata": {
        "colab": {
          "base_uri": "https://localhost:8080/"
        },
        "id": "KVvqr0s0xLGI",
        "outputId": "11779c6c-374b-46af-89ce-64c3878244b5"
      },
      "execution_count": 9,
      "outputs": [
        {
          "output_type": "execute_result",
          "data": {
            "text/plain": [
              "['best_random_forest_model_ATTRITION.pkl']"
            ]
          },
          "metadata": {},
          "execution_count": 9
        }
      ]
    }
  ]
}