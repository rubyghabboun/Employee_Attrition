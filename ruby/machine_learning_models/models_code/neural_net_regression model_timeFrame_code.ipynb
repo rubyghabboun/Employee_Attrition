{
  "cells": [
    {
      "cell_type": "code",
      "execution_count": null,
      "metadata": {
        "id": "ybeHHGwylE9P"
      },
      "outputs": [],
      "source": [
        "import pandas as pd\n",
        "from sklearn.model_selection import train_test_split\n",
        "from sklearn.preprocessing import StandardScaler\n",
        "from sklearn.metrics import mean_squared_error, mean_absolute_error, r2_score\n",
        "import numpy as np\n",
        "from keras.models import Sequential\n",
        "from keras.layers import Dense, Dropout\n",
        "\n",
        "# Read the dataset\n",
        "data_subset = pd.read_csv('/content/IBM-HR-Employee-Attrition.csv')\n",
        "\n",
        "# Map the 'Attrition' column to numeric labels\n",
        "data_subset['Attrition'] = data_subset['Attrition'].map({'Yes': 1, 'No': 0})\n",
        "\n",
        "# Selecting features for time frame prediction\n",
        "X_timeframe = data_subset[['Age', 'DistanceFromHome', 'Education',\n",
        "                           'JobSatisfaction', 'MonthlyIncome', 'PercentSalaryHike',\n",
        "                           'YearsSinceLastPromotion', 'PerformanceRating', 'Attrition',\n",
        "                           'EnvironmentSatisfaction', 'NumCompaniesWorked','TotalWorkingYears']]\n",
        "\n",
        "# Target variable for time frame prediction\n",
        "y_timeframe = data_subset['YearsAtCompany']\n",
        "\n",
        "# Split data into training and testing sets for time frame prediction\n",
        "X_train_timeframe, X_test_timeframe, y_train_timeframe, y_test_timeframe = train_test_split(X_timeframe, y_timeframe, test_size=0.2, random_state=42)\n",
        "\n",
        "# Data scaling for time frame prediction\n",
        "scaler_timeframe = StandardScaler()\n",
        "X_train_timeframe_scaled = scaler_timeframe.fit_transform(X_train_timeframe)\n",
        "X_test_timeframe_scaled = scaler_timeframe.transform(X_test_timeframe)\n",
        "\n",
        "# Define the neural network model for time frame prediction\n",
        "def create_model():\n",
        "    model = Sequential([\n",
        "        Dense(128, activation='relu', input_shape=(X_train_timeframe_scaled.shape[1],)),\n",
        "        Dropout(0.2),\n",
        "        Dense(64, activation='relu'),\n",
        "        Dropout(0.2),\n",
        "        Dense(32, activation='relu'),\n",
        "        Dropout(0.2),\n",
        "        Dense(1, activation='linear')\n",
        "    ])\n",
        "    return model\n",
        "\n",
        "# Train multiple models and average their predictions\n",
        "num_models = 5\n",
        "models = []\n",
        "for i in range(num_models):\n",
        "    model = create_model()\n",
        "    model.compile(optimizer='adam', loss='mean_squared_error', metrics=['mae', 'mse', 'accuracy'])\n",
        "    history = model.fit(X_train_timeframe_scaled, y_train_timeframe, epochs=150, batch_size=64, verbose=0, validation_split=0.2)\n",
        "    models.append(model)\n"
      ]
    },
    {
      "cell_type": "code",
      "execution_count": null,
      "metadata": {
        "colab": {
          "base_uri": "https://localhost:8080/"
        },
        "id": "nNd-QUZFqaSS",
        "outputId": "69205209-11dd-4866-fcad-7809bab87876"
      },
      "outputs": [
        {
          "name": "stdout",
          "output_type": "stream",
          "text": [
            "10/10 [==============================] - 0s 2ms/step\n",
            "10/10 [==============================] - 0s 3ms/step\n",
            "10/10 [==============================] - 0s 6ms/step\n",
            "10/10 [==============================] - 0s 4ms/step\n",
            "10/10 [==============================] - 0s 4ms/step\n",
            "Ensemble: Time Frame Prediction Loss: 9.024933729701191, MAE: 1.901426244471349, RMSE: 3.004152747398373, R-squared: 0.7701212157878716\n"
          ]
        }
      ],
      "source": [
        "# Evaluate ensemble\n",
        "predictions = np.zeros_like(y_test_timeframe, dtype=np.float64)  # Ensure predictions is of type float64\n",
        "for model in models:\n",
        "    model_predictions = model.predict(X_test_timeframe_scaled)\n",
        "    predictions += np.squeeze(model_predictions)  # Ensure model predictions are squeezed to remove any extra dimensions\n",
        "predictions /= num_models\n",
        "ensemble_loss = mean_squared_error(y_test_timeframe, predictions)\n",
        "ensemble_mae = mean_absolute_error(y_test_timeframe, predictions)\n",
        "ensemble_rmse = np.sqrt(mean_squared_error(y_test_timeframe, predictions))\n",
        "ensemble_r2 = r2_score(y_test_timeframe, predictions)\n",
        "print(f'Ensemble: Time Frame Prediction Loss: {ensemble_loss}, MAE: {ensemble_mae}, RMSE: {ensemble_rmse}, R-squared: {ensemble_r2}')"
      ]
    },
    {
      "cell_type": "markdown",
      "metadata": {},
      "source": [
        "Time Frame Prediction Loss: The average loss or error in predicting time frames is approximately 9.02 out of 100\n",
        "\n",
        "Mean Absolute Error (MAE): The average absolute error between predicted and actual time frames is approximately 1.90. MAE represents the average magnitude of errors in the predictions.\n",
        "\n",
        "Root Mean Squared Error (RMSE): The square root of the average squared differences between predicted and actual time frames is approximately 3.00\n",
        "\n",
        "R-squared (R²): The model explains approximately 77% of the variability in the time frames\n",
        "\n",
        "Overall, the ensemble model shows reasonable performance in predicting time frames, with low prediction loss, MAE, and RMSE, and a moderate to high R-squared value."
      ]
    },
    {
      "cell_type": "code",
      "execution_count": null,
      "metadata": {
        "colab": {
          "base_uri": "https://localhost:8080/"
        },
        "id": "Q7K8kNR5q4Jb",
        "outputId": "060fb2db-10da-4b74-e3da-9a76044db6fc"
      },
      "outputs": [
        {
          "name": "stdout",
          "output_type": "stream",
          "text": [
            "Best Model MSE: 8.985008239746094\n"
          ]
        }
      ],
      "source": [
        "best_model = None\n",
        "best_mse = float('inf')  # Initialize with a high value\n",
        "\n",
        "for model in models:\n",
        "    mse = model.evaluate(X_test_timeframe_scaled, y_test_timeframe, verbose=0)[2]  # Index 2 is for MSE\n",
        "    if mse < best_mse:\n",
        "        best_model = model\n",
        "        best_mse = mse\n",
        "\n",
        "print(f'Best Model MSE: {best_mse}')\n",
        "\n",
        "# Save the best model\n",
        "best_model.save('best_model_timeframe.keras')"
      ]
    }
  ],
  "metadata": {
    "colab": {
      "provenance": []
    },
    "kernelspec": {
      "display_name": "Python 3",
      "name": "python3"
    },
    "language_info": {
      "name": "python"
    }
  },
  "nbformat": 4,
  "nbformat_minor": 0
}
